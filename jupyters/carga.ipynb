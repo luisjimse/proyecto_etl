{
 "cells": [
  {
   "cell_type": "code",
   "execution_count": 2,
   "metadata": {},
   "outputs": [],
   "source": [
    "import pandas as pd"
   ]
  },
  {
   "cell_type": "code",
   "execution_count": 1,
   "metadata": {},
   "outputs": [
    {
     "name": "stdout",
     "output_type": "stream",
     "text": [
      "('PostgreSQL 14.13 (Homebrew) on aarch64-apple-darwin23.4.0, compiled by Apple clang version 15.0.0 (clang-1500.3.9.4), 64-bit',)\n"
     ]
    }
   ],
   "source": [
    "import psycopg2\n",
    "\n",
    "# Configurar la conexión\n",
    "conn = psycopg2.connect(\n",
    "    dbname=\"reservas_hoteles\",\n",
    "    user=\"luisjimse\",\n",
    "    password=\"admin\",\n",
    "    host=\"localhost\",\n",
    "    port=\"5432\"\n",
    ")\n",
    "\n",
    "# Crear un cursor para ejecutar comandos SQL\n",
    "cur = conn.cursor()\n",
    "\n",
    "# Verificar la conexión\n",
    "cur.execute(\"SELECT version();\")\n",
    "print(cur.fetchone())\n",
    "\n",
    "# Cerrar la conexión\n",
    "cur.close()\n",
    "conn.close()"
   ]
  },
  {
   "cell_type": "code",
   "execution_count": 3,
   "metadata": {},
   "outputs": [],
   "source": [
    "df = pd.read_parquet('../data/reservas_hoteles_limpio.parquet')"
   ]
  },
  {
   "cell_type": "code",
   "execution_count": 16,
   "metadata": {},
   "outputs": [],
   "source": [
    "conn = psycopg2.connect(\n",
    "    dbname=\"reservas_hoteles\",\n",
    "    user=\"luisjimse\",\n",
    "    password=\"admin\",\n",
    "    host=\"localhost\",\n",
    "    port=\"5432\"\n",
    ")\n",
    "\n",
    "cur = conn.cursor()\n",
    "\n",
    "df_filtered = df[['id_cliente', 'nombre', 'apellido', 'mail']]\n",
    "\n",
    "# Convierte las filas en tuplas\n",
    "records_list = [tuple(row) for row in df_filtered.itertuples(index=False, name=None)]\n"
   ]
  },
  {
   "cell_type": "code",
   "execution_count": 51,
   "metadata": {},
   "outputs": [
    {
     "data": {
      "text/html": [
       "<div>\n",
       "<style scoped>\n",
       "    .dataframe tbody tr th:only-of-type {\n",
       "        vertical-align: middle;\n",
       "    }\n",
       "\n",
       "    .dataframe tbody tr th {\n",
       "        vertical-align: top;\n",
       "    }\n",
       "\n",
       "    .dataframe thead th {\n",
       "        text-align: right;\n",
       "    }\n",
       "</style>\n",
       "<table border=\"1\" class=\"dataframe\">\n",
       "  <thead>\n",
       "    <tr style=\"text-align: right;\">\n",
       "      <th></th>\n",
       "      <th>id_reserva</th>\n",
       "      <th>id_cliente</th>\n",
       "      <th>nombre</th>\n",
       "      <th>apellido</th>\n",
       "      <th>mail</th>\n",
       "      <th>competencia</th>\n",
       "      <th>fecha_reserva</th>\n",
       "      <th>inicio_estancia</th>\n",
       "      <th>final_estancia</th>\n",
       "      <th>id_hotel</th>\n",
       "      <th>precio_noche</th>\n",
       "      <th>nombre_hotel</th>\n",
       "      <th>estrellas</th>\n",
       "      <th>ciudad</th>\n",
       "    </tr>\n",
       "  </thead>\n",
       "  <tbody>\n",
       "    <tr>\n",
       "      <th>0</th>\n",
       "      <td>5256cc90-139b-43d2-8ec5-412495d751cf</td>\n",
       "      <td>HC5311</td>\n",
       "      <td>Feliciana</td>\n",
       "      <td>Cantón</td>\n",
       "      <td>feliciana.cantón@example.com</td>\n",
       "      <td>True</td>\n",
       "      <td>2025-02-19</td>\n",
       "      <td>2025-03-01</td>\n",
       "      <td>2025-03-02</td>\n",
       "      <td>1</td>\n",
       "      <td>170.00</td>\n",
       "      <td>ibis Styles Madrid Prado</td>\n",
       "      <td>4.700000</td>\n",
       "      <td>Madrid</td>\n",
       "    </tr>\n",
       "    <tr>\n",
       "      <th>1</th>\n",
       "      <td>84fd6209-bd8d-4a92-bfe6-c68ee2c49271</td>\n",
       "      <td>HC8310</td>\n",
       "      <td>Leonardo</td>\n",
       "      <td>Hierro</td>\n",
       "      <td>leonardo.hierro@example.com</td>\n",
       "      <td>True</td>\n",
       "      <td>2025-02-19</td>\n",
       "      <td>2025-03-01</td>\n",
       "      <td>2025-03-02</td>\n",
       "      <td>2</td>\n",
       "      <td>255.00</td>\n",
       "      <td>Novotel Madrid Center</td>\n",
       "      <td>4.600000</td>\n",
       "      <td>Madrid</td>\n",
       "    </tr>\n",
       "    <tr>\n",
       "      <th>2</th>\n",
       "      <td>40c4cb55-d1f5-407b-832f-4756b8ff77b4</td>\n",
       "      <td>HP9063</td>\n",
       "      <td>Maite</td>\n",
       "      <td>Calatayud</td>\n",
       "      <td>maite.calatayud@example.com</td>\n",
       "      <td>False</td>\n",
       "      <td>2025-02-09</td>\n",
       "      <td>2025-03-01</td>\n",
       "      <td>2025-03-02</td>\n",
       "      <td>3</td>\n",
       "      <td>119.96</td>\n",
       "      <td>Hotel Monte Verde</td>\n",
       "      <td>3.103261</td>\n",
       "      <td>Madrid</td>\n",
       "    </tr>\n",
       "    <tr>\n",
       "      <th>3</th>\n",
       "      <td>f2ce8df5-7844-43e1-8c0f-97ce7a208f21</td>\n",
       "      <td>HP13646</td>\n",
       "      <td>Tecla</td>\n",
       "      <td>Bonet</td>\n",
       "      <td>tecla.bonet@example.com</td>\n",
       "      <td>False</td>\n",
       "      <td>2025-02-08</td>\n",
       "      <td>2025-03-01</td>\n",
       "      <td>2025-03-02</td>\n",
       "      <td>4</td>\n",
       "      <td>211.53</td>\n",
       "      <td>Hotel Brisas del Mar</td>\n",
       "      <td>3.091078</td>\n",
       "      <td>Madrid</td>\n",
       "    </tr>\n",
       "    <tr>\n",
       "      <th>4</th>\n",
       "      <td>57d4515a-447d-4067-afcb-9bdcf4e4e915</td>\n",
       "      <td>HP993</td>\n",
       "      <td>Amílcar</td>\n",
       "      <td>Andrés</td>\n",
       "      <td>amílcar.andrés@example.com</td>\n",
       "      <td>False</td>\n",
       "      <td>2025-02-02</td>\n",
       "      <td>2025-03-01</td>\n",
       "      <td>2025-03-02</td>\n",
       "      <td>5</td>\n",
       "      <td>378.37</td>\n",
       "      <td>Hotel Camino del Sol</td>\n",
       "      <td>3.072519</td>\n",
       "      <td>Madrid</td>\n",
       "    </tr>\n",
       "  </tbody>\n",
       "</table>\n",
       "</div>"
      ],
      "text/plain": [
       "                             id_reserva id_cliente     nombre   apellido  \\\n",
       "0  5256cc90-139b-43d2-8ec5-412495d751cf     HC5311  Feliciana     Cantón   \n",
       "1  84fd6209-bd8d-4a92-bfe6-c68ee2c49271     HC8310   Leonardo     Hierro   \n",
       "2  40c4cb55-d1f5-407b-832f-4756b8ff77b4     HP9063      Maite  Calatayud   \n",
       "3  f2ce8df5-7844-43e1-8c0f-97ce7a208f21    HP13646      Tecla      Bonet   \n",
       "4  57d4515a-447d-4067-afcb-9bdcf4e4e915      HP993    Amílcar     Andrés   \n",
       "\n",
       "                           mail  competencia fecha_reserva inicio_estancia  \\\n",
       "0  feliciana.cantón@example.com         True    2025-02-19      2025-03-01   \n",
       "1   leonardo.hierro@example.com         True    2025-02-19      2025-03-01   \n",
       "2   maite.calatayud@example.com        False    2025-02-09      2025-03-01   \n",
       "3       tecla.bonet@example.com        False    2025-02-08      2025-03-01   \n",
       "4    amílcar.andrés@example.com        False    2025-02-02      2025-03-01   \n",
       "\n",
       "  final_estancia  id_hotel  precio_noche              nombre_hotel  estrellas  \\\n",
       "0     2025-03-02         1        170.00  ibis Styles Madrid Prado   4.700000   \n",
       "1     2025-03-02         2        255.00     Novotel Madrid Center   4.600000   \n",
       "2     2025-03-02         3        119.96         Hotel Monte Verde   3.103261   \n",
       "3     2025-03-02         4        211.53      Hotel Brisas del Mar   3.091078   \n",
       "4     2025-03-02         5        378.37      Hotel Camino del Sol   3.072519   \n",
       "\n",
       "   ciudad  \n",
       "0  Madrid  \n",
       "1  Madrid  \n",
       "2  Madrid  \n",
       "3  Madrid  \n",
       "4  Madrid  "
      ]
     },
     "execution_count": 51,
     "metadata": {},
     "output_type": "execute_result"
    }
   ],
   "source": [
    "df.head()"
   ]
  },
  {
   "cell_type": "code",
   "execution_count": 21,
   "metadata": {},
   "outputs": [],
   "source": [
    "query = \"\"\"\n",
    "    INSERT INTO clientes (id_cliente, nombre, apellido, mail)\n",
    "    VALUES (%s, %s, %s, %s)\n",
    "    ON CONFLICT (mail) DO NOTHING\n",
    "\"\"\"\n",
    "cur.executemany(query, records_list)\n",
    "conn.commit()"
   ]
  },
  {
   "cell_type": "code",
   "execution_count": 96,
   "metadata": {},
   "outputs": [],
   "source": [
    "conn.rollback()  # Cancela la transacción fallida\n"
   ]
  },
  {
   "cell_type": "code",
   "execution_count": 24,
   "metadata": {},
   "outputs": [],
   "source": [
    "query = \"\"\"\n",
    "    INSERT INTO ciudad (nombre_ciudad)\n",
    "    SELECT %s\n",
    "    WHERE NOT EXISTS (\n",
    "        SELECT 1 FROM ciudad WHERE nombre_ciudad = %s\n",
    "    );\n",
    "\"\"\"\n",
    "cur.execute(query, ('Madrid', 'Madrid'))\n",
    "conn.commit()\n"
   ]
  },
  {
   "cell_type": "code",
   "execution_count": 60,
   "metadata": {},
   "outputs": [],
   "source": [
    "df_hotel = df[['id_hotel','nombre_hotel', 'competencia', 'estrellas']].copy()\n",
    "df_hotel['id_ciudad'] = id_ciudad  # Agregar id_ciudad correctamente\n",
    "df_hotel = df_hotel.drop_duplicates(subset=['id_hotel'])\n",
    "\n",
    "\n",
    "df_hotel['id_hotel'] = df_hotel['id_hotel'].astype(str)  # Asegúrate de que sea un string\n",
    "\n",
    "records_list = [tuple(row) for row in df_hotel.itertuples(index=False, name=None)]\n"
   ]
  },
  {
   "cell_type": "code",
   "execution_count": 61,
   "metadata": {},
   "outputs": [],
   "source": [
    "query = \"\"\"\n",
    "    INSERT INTO hoteles (id_hotel, nombre_hotel, competencia, valoracion, id_ciudad)\n",
    "    VALUES (%s, %s, %s, %s, %s)\n",
    "\"\"\"\n",
    "cur.executemany(query, records_list)\n",
    "conn.commit()"
   ]
  },
  {
   "cell_type": "code",
   "execution_count": 62,
   "metadata": {},
   "outputs": [
    {
     "name": "stderr",
     "output_type": "stream",
     "text": [
      "/var/folders/7h/3lv1slyd33dc0tb3lck5tb2c0000gn/T/ipykernel_27414/3674131598.py:2: SettingWithCopyWarning: \n",
      "A value is trying to be set on a copy of a slice from a DataFrame.\n",
      "Try using .loc[row_indexer,col_indexer] = value instead\n",
      "\n",
      "See the caveats in the documentation: https://pandas.pydata.org/pandas-docs/stable/user_guide/indexing.html#returning-a-view-versus-a-copy\n",
      "  df_reservas['fecha_reserva'] = pd.to_datetime(df_reservas['fecha_reserva']).dt.date\n",
      "/var/folders/7h/3lv1slyd33dc0tb3lck5tb2c0000gn/T/ipykernel_27414/3674131598.py:3: SettingWithCopyWarning: \n",
      "A value is trying to be set on a copy of a slice from a DataFrame.\n",
      "Try using .loc[row_indexer,col_indexer] = value instead\n",
      "\n",
      "See the caveats in the documentation: https://pandas.pydata.org/pandas-docs/stable/user_guide/indexing.html#returning-a-view-versus-a-copy\n",
      "  df_reservas['inicio_estancia'] = pd.to_datetime(df_reservas['inicio_estancia']).dt.date\n",
      "/var/folders/7h/3lv1slyd33dc0tb3lck5tb2c0000gn/T/ipykernel_27414/3674131598.py:4: SettingWithCopyWarning: \n",
      "A value is trying to be set on a copy of a slice from a DataFrame.\n",
      "Try using .loc[row_indexer,col_indexer] = value instead\n",
      "\n",
      "See the caveats in the documentation: https://pandas.pydata.org/pandas-docs/stable/user_guide/indexing.html#returning-a-view-versus-a-copy\n",
      "  df_reservas['final_estancia'] = pd.to_datetime(df_reservas['final_estancia']).dt.date\n"
     ]
    }
   ],
   "source": [
    "df_reservas = df[['id_reserva','fecha_reserva','inicio_estancia','final_estancia','precio_noche','id_cliente','id_hotel']]\n",
    "df_reservas['fecha_reserva'] = pd.to_datetime(df_reservas['fecha_reserva']).dt.date\n",
    "df_reservas['inicio_estancia'] = pd.to_datetime(df_reservas['inicio_estancia']).dt.date\n",
    "df_reservas['final_estancia'] = pd.to_datetime(df_reservas['final_estancia']).dt.date\n"
   ]
  },
  {
   "cell_type": "code",
   "execution_count": 80,
   "metadata": {},
   "outputs": [],
   "source": [
    "\n",
    "df_reservas = df_reservas.drop_duplicates(subset=['id_reserva'])\n"
   ]
  },
  {
   "cell_type": "code",
   "execution_count": 81,
   "metadata": {},
   "outputs": [],
   "source": [
    "query = \"\"\"\n",
    "    INSERT INTO reservas (id_reserva, fecha_reserva, inicio_estancia, final_estancia, precio_noche, id_cliente, id_hotel)\n",
    "    VALUES (%s, %s, %s, %s, %s, %s, %s)\n",
    "\"\"\"\n",
    "records_list = [tuple(row) for row in df_reservas.itertuples(index=False, name=None)]\n",
    "cur.executemany(query, records_list)\n",
    "conn.commit()\n"
   ]
  },
  {
   "cell_type": "code",
   "execution_count": 82,
   "metadata": {},
   "outputs": [],
   "source": [
    "df_eventos = pd.read_parquet('../data/api_eventos.parquet')"
   ]
  },
  {
   "cell_type": "code",
   "execution_count": 83,
   "metadata": {},
   "outputs": [
    {
     "name": "stdout",
     "output_type": "stream",
     "text": [
      "<class 'pandas.core.frame.DataFrame'>\n",
      "Index: 29 entries, 62 to 1117\n",
      "Data columns (total 8 columns):\n",
      " #   Column         Non-Null Count  Dtype \n",
      "---  ------         --------------  ----- \n",
      " 0   nombre_evento  29 non-null     object\n",
      " 1   url_evento     29 non-null     object\n",
      " 2   codigo_postal  29 non-null     int64 \n",
      " 3   direccion      17 non-null     object\n",
      " 4   fecha_inicio   29 non-null     object\n",
      " 5   fecha_fin      29 non-null     object\n",
      " 6   localizacion   29 non-null     object\n",
      " 7   horario        29 non-null     object\n",
      "dtypes: int64(1), object(7)\n",
      "memory usage: 2.0+ KB\n"
     ]
    }
   ],
   "source": [
    "df_eventos.info()"
   ]
  },
  {
   "cell_type": "code",
   "execution_count": 86,
   "metadata": {},
   "outputs": [],
   "source": [
    "df_eventos['id_ciudad'] = 1"
   ]
  },
  {
   "cell_type": "code",
   "execution_count": 87,
   "metadata": {},
   "outputs": [
    {
     "data": {
      "text/html": [
       "<div>\n",
       "<style scoped>\n",
       "    .dataframe tbody tr th:only-of-type {\n",
       "        vertical-align: middle;\n",
       "    }\n",
       "\n",
       "    .dataframe tbody tr th {\n",
       "        vertical-align: top;\n",
       "    }\n",
       "\n",
       "    .dataframe thead th {\n",
       "        text-align: right;\n",
       "    }\n",
       "</style>\n",
       "<table border=\"1\" class=\"dataframe\">\n",
       "  <thead>\n",
       "    <tr style=\"text-align: right;\">\n",
       "      <th></th>\n",
       "      <th>nombre_evento</th>\n",
       "      <th>url_evento</th>\n",
       "      <th>codigo_postal</th>\n",
       "      <th>direccion</th>\n",
       "      <th>fecha_inicio</th>\n",
       "      <th>fecha_fin</th>\n",
       "      <th>localizacion</th>\n",
       "      <th>horario</th>\n",
       "      <th>id_ciudad</th>\n",
       "    </tr>\n",
       "  </thead>\n",
       "  <tbody>\n",
       "    <tr>\n",
       "      <th>62</th>\n",
       "      <td>Asalto a la lectura. Tres cerditos y más</td>\n",
       "      <td>http://www.madrid.es/sites/v/index.jsp?vgnextc...</td>\n",
       "      <td>28015</td>\n",
       "      <td>CALLE AMANIEL 29</td>\n",
       "      <td>2025-03-01</td>\n",
       "      <td>2025-03-01</td>\n",
       "      <td>Centro Cultural Clara del Rey - Museo ABC (Cen...</td>\n",
       "      <td>11:00 - 23:59</td>\n",
       "      <td>1</td>\n",
       "    </tr>\n",
       "    <tr>\n",
       "      <th>66</th>\n",
       "      <td>Atlantiques + Dahomey</td>\n",
       "      <td>http://www.madrid.es/sites/v/index.jsp?vgnextc...</td>\n",
       "      <td>28045</td>\n",
       "      <td>PLAZA LEGAZPI 8</td>\n",
       "      <td>2025-03-01</td>\n",
       "      <td>2025-03-01</td>\n",
       "      <td>Cineteca Madrid</td>\n",
       "      <td>19:30 - 23:59</td>\n",
       "      <td>1</td>\n",
       "    </tr>\n",
       "    <tr>\n",
       "      <th>81</th>\n",
       "      <td>Baile de Carnaval. Concierto de Origen</td>\n",
       "      <td>http://www.madrid.es/sites/v/index.jsp?vgnextc...</td>\n",
       "      <td>0</td>\n",
       "      <td>None</td>\n",
       "      <td>2025-03-01</td>\n",
       "      <td>2025-03-01</td>\n",
       "      <td></td>\n",
       "      <td>19:30 - 23:59</td>\n",
       "      <td>1</td>\n",
       "    </tr>\n",
       "    <tr>\n",
       "      <th>82</th>\n",
       "      <td>Baile de Carnaval. Concierto de Versioneta</td>\n",
       "      <td>http://www.madrid.es/sites/v/index.jsp?vgnextc...</td>\n",
       "      <td>0</td>\n",
       "      <td>None</td>\n",
       "      <td>2025-03-01</td>\n",
       "      <td>2025-03-01</td>\n",
       "      <td></td>\n",
       "      <td>21:15 - 23:59</td>\n",
       "      <td>1</td>\n",
       "    </tr>\n",
       "    <tr>\n",
       "      <th>130</th>\n",
       "      <td>Carnaval en Matadero</td>\n",
       "      <td>http://www.madrid.es/sites/v/index.jsp?vgnextc...</td>\n",
       "      <td>28045</td>\n",
       "      <td>PLAZA LEGAZPI 8</td>\n",
       "      <td>2025-03-01</td>\n",
       "      <td>2025-03-01</td>\n",
       "      <td>Matadero Madrid</td>\n",
       "      <td>10:30 - 23:59</td>\n",
       "      <td>1</td>\n",
       "    </tr>\n",
       "  </tbody>\n",
       "</table>\n",
       "</div>"
      ],
      "text/plain": [
       "                                  nombre_evento  \\\n",
       "62     Asalto a la lectura. Tres cerditos y más   \n",
       "66                        Atlantiques + Dahomey   \n",
       "81       Baile de Carnaval. Concierto de Origen   \n",
       "82   Baile de Carnaval. Concierto de Versioneta   \n",
       "130                        Carnaval en Matadero   \n",
       "\n",
       "                                            url_evento  codigo_postal  \\\n",
       "62   http://www.madrid.es/sites/v/index.jsp?vgnextc...          28015   \n",
       "66   http://www.madrid.es/sites/v/index.jsp?vgnextc...          28045   \n",
       "81   http://www.madrid.es/sites/v/index.jsp?vgnextc...              0   \n",
       "82   http://www.madrid.es/sites/v/index.jsp?vgnextc...              0   \n",
       "130  http://www.madrid.es/sites/v/index.jsp?vgnextc...          28045   \n",
       "\n",
       "            direccion fecha_inicio   fecha_fin  \\\n",
       "62   CALLE AMANIEL 29   2025-03-01  2025-03-01   \n",
       "66    PLAZA LEGAZPI 8   2025-03-01  2025-03-01   \n",
       "81               None   2025-03-01  2025-03-01   \n",
       "82               None   2025-03-01  2025-03-01   \n",
       "130   PLAZA LEGAZPI 8   2025-03-01  2025-03-01   \n",
       "\n",
       "                                          localizacion        horario  \\\n",
       "62   Centro Cultural Clara del Rey - Museo ABC (Cen...  11:00 - 23:59   \n",
       "66                                     Cineteca Madrid  19:30 - 23:59   \n",
       "81                                                      19:30 - 23:59   \n",
       "82                                                      21:15 - 23:59   \n",
       "130                                    Matadero Madrid  10:30 - 23:59   \n",
       "\n",
       "     id_ciudad  \n",
       "62           1  \n",
       "66           1  \n",
       "81           1  \n",
       "82           1  \n",
       "130          1  "
      ]
     },
     "execution_count": 87,
     "metadata": {},
     "output_type": "execute_result"
    }
   ],
   "source": [
    "df_eventos.head()"
   ]
  },
  {
   "cell_type": "code",
   "execution_count": 88,
   "metadata": {},
   "outputs": [],
   "source": [
    "query = \"\"\"\n",
    "    INSERT INTO eventos (nombre_evento, url_evento, codigo_postal, direccion, horario, fecha_inicio, fecha_fin, organizacion, id_ciudad)\n",
    "    VALUES (%s, %s, %s, %s, %s, %s, %s, %s, %s)\n",
    "    ON CONFLICT DO NOTHING\n",
    "\"\"\"\n",
    "\n",
    "df_eventos = df_eventos.rename(columns={'localizacion': 'organizacion'})\n",
    "\n",
    "records_list = df_eventos[['nombre_evento', 'url_evento', 'codigo_postal', 'direccion', 'horario', 'fecha_inicio', 'fecha_fin', 'organizacion', 'id_ciudad']].values.tolist()\n",
    "\n",
    "cur.executemany(query, records_list)\n",
    "conn.commit()\n"
   ]
  },
  {
   "cell_type": "code",
   "execution_count": 92,
   "metadata": {},
   "outputs": [],
   "source": [
    "df_eventos_nuevos = pd.read_parquet('../data/eventos_nuevos.parquet')\n",
    "df_eventos_nuevos['id_ciudad'] = 1"
   ]
  },
  {
   "cell_type": "code",
   "execution_count": 95,
   "metadata": {},
   "outputs": [],
   "source": [
    "\n",
    "df_eventos_nuevos = df_eventos_nuevos.rename(columns={'localizacion': 'organizacion'})\n"
   ]
  },
  {
   "cell_type": "code",
   "execution_count": 97,
   "metadata": {},
   "outputs": [],
   "source": [
    "query = \"\"\"\n",
    "    INSERT INTO eventos (nombre_evento, url_evento, codigo_postal, direccion, horario, fecha_inicio, fecha_fin, organizacion, id_ciudad)\n",
    "    VALUES (%s, %s, %s, %s, %s, %s, %s, %s, %s)\n",
    "    ON CONFLICT DO NOTHING  -- Ignora eventos duplicados si ya existen\n",
    "\"\"\"\n",
    "\n",
    "records_list = df_eventos_nuevos[['nombre_evento', 'url_evento', 'codigo_postal', 'direccion', 'horario', 'fecha_inicio', 'fecha_fin', 'organizacion', 'id_ciudad']].values.tolist()\n",
    "\n",
    "cur.executemany(query, records_list)\n",
    "conn.commit()\n"
   ]
  },
  {
   "cell_type": "code",
   "execution_count": null,
   "metadata": {},
   "outputs": [],
   "source": []
  }
 ],
 "metadata": {
  "kernelspec": {
   "display_name": "venv",
   "language": "python",
   "name": "python3"
  },
  "language_info": {
   "codemirror_mode": {
    "name": "ipython",
    "version": 3
   },
   "file_extension": ".py",
   "mimetype": "text/x-python",
   "name": "python",
   "nbconvert_exporter": "python",
   "pygments_lexer": "ipython3",
   "version": "3.13.0"
  }
 },
 "nbformat": 4,
 "nbformat_minor": 2
}
