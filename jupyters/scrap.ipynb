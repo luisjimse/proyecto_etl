{
 "cells": [
  {
   "cell_type": "code",
   "execution_count": 10,
   "metadata": {},
   "outputs": [],
   "source": [
    "import pandas as pd\n",
    "import numpy as np\n",
    "import bs4\n",
    "import requests\n",
    "from selenium import webdriver\n",
    "from selenium.webdriver.common.by import By\n",
    "import time"
   ]
  },
  {
   "cell_type": "code",
   "execution_count": 11,
   "metadata": {},
   "outputs": [],
   "source": [
    "from bs4 import BeautifulSoup"
   ]
  },
  {
   "cell_type": "markdown",
   "metadata": {},
   "source": [
    "Selenium"
   ]
  },
  {
   "cell_type": "code",
   "execution_count": 41,
   "metadata": {},
   "outputs": [],
   "source": [
    "options = webdriver.ChromeOptions()\n",
    "url = \"https://all.accor.com/ssr/app/ibis/hotels/madrid-spain/open/index.en.shtml?compositions=1&stayplus=false&snu=false&hideWDR=false&accessibleRooms=false&hideHotelDetails=false&dateIn=2025-03-01&nights=1&destination=madrid-spain\"\n",
    "options.add_argument(\"--headless\")"
   ]
  },
  {
   "cell_type": "code",
   "execution_count": 58,
   "metadata": {},
   "outputs": [],
   "source": [
    "precio_noche = []\n",
    "nombre_hotel = []\n",
    "estrellas = []"
   ]
  },
  {
   "cell_type": "code",
   "execution_count": 64,
   "metadata": {},
   "outputs": [
    {
     "name": "stdout",
     "output_type": "stream",
     "text": [
      "ibis Styles Madrid Prado\n",
      "4.7\n",
      "170\n",
      "----\n",
      "Novotel Madrid Center\n",
      "4.6\n",
      "255\n",
      "----\n",
      "ibis budget Madrid Calle 30\n",
      "4.4\n",
      "106\n",
      "----\n",
      "ibis Madrid Centro las Ventas\n",
      "4.5\n",
      "172\n",
      "----\n",
      "Novotel Madrid City Las Ventas\n",
      "4.6\n",
      "173\n",
      "----\n",
      "ibis budget Madrid Vallecas\n",
      "4.3\n",
      "95\n",
      "----\n",
      "Pullman Madrid Airport & Feria\n",
      "4.2\n",
      "127\n",
      "----\n",
      "Novotel Madrid Campo de las Naciones\n",
      "4.5\n",
      "154\n",
      "----\n",
      "ibis Madrid Aeropuerto Barajas\n",
      "4.4\n",
      "116\n",
      "----\n",
      "ibis Madrid Alcorcon Tresaguas\n",
      "4.4\n",
      "90\n",
      "----\n"
     ]
    }
   ],
   "source": [
    "driver = webdriver.Chrome(options=options)\n",
    "driver.get(url)\n",
    "time.sleep(5)\n",
    "hoteles = driver.find_elements(By.CLASS_NAME, \"hotelblock__content\")\n",
    "\n",
    "for hotel in hoteles:\n",
    "    nombre, stars = hotel.find_element(By.CLASS_NAME, \"title\").text.split(\"\\n\")\n",
    "    print(nombre)\n",
    "    nombre_hotel.append(nombre)\n",
    "    rating, sobre_5 = hotel.find_element(By.CLASS_NAME, \"ratings__score\").text.split(\"/\")\n",
    "    print(rating)\n",
    "    estrellas.append(rating)\n",
    "    precio = hotel.find_element(By.CLASS_NAME, \"booking-price__number\").text\n",
    "    print(precio)\n",
    "    precio_noche.append(precio)\n",
    "    print(\"----\")\n",
    "\n",
    "driver.close()\n",
    "driver.quit()"
   ]
  },
  {
   "cell_type": "code",
   "execution_count": 65,
   "metadata": {},
   "outputs": [
    {
     "data": {
      "text/plain": [
       "['170', '255', '106', '172', '173', '95', '127', '154', '116', '90']"
      ]
     },
     "execution_count": 65,
     "metadata": {},
     "output_type": "execute_result"
    }
   ],
   "source": [
    "precio_noche"
   ]
  },
  {
   "cell_type": "code",
   "execution_count": 66,
   "metadata": {},
   "outputs": [
    {
     "data": {
      "text/plain": [
       "['ibis Styles Madrid Prado',\n",
       " 'Novotel Madrid Center',\n",
       " 'ibis budget Madrid Calle 30',\n",
       " 'ibis Madrid Centro las Ventas',\n",
       " 'Novotel Madrid City Las Ventas',\n",
       " 'ibis budget Madrid Vallecas',\n",
       " 'Pullman Madrid Airport & Feria',\n",
       " 'Novotel Madrid Campo de las Naciones',\n",
       " 'ibis Madrid Aeropuerto Barajas',\n",
       " 'ibis Madrid Alcorcon Tresaguas']"
      ]
     },
     "execution_count": 66,
     "metadata": {},
     "output_type": "execute_result"
    }
   ],
   "source": [
    "nombre_hotel"
   ]
  },
  {
   "cell_type": "code",
   "execution_count": 67,
   "metadata": {},
   "outputs": [
    {
     "data": {
      "text/plain": [
       "['4.7', '4.6', '4.4', '4.5', '4.6', '4.3', '4.2', '4.5', '4.4', '4.4']"
      ]
     },
     "execution_count": 67,
     "metadata": {},
     "output_type": "execute_result"
    }
   ],
   "source": [
    "estrellas"
   ]
  },
  {
   "cell_type": "code",
   "execution_count": 69,
   "metadata": {},
   "outputs": [],
   "source": [
    "data = {'nombre_hotel': nombre_hotel,\n",
    "        'estrellas':estrellas,\n",
    "        'precio_noche': precio_noche}\n",
    "df_scrap = pd.DataFrame(data)"
   ]
  },
  {
   "cell_type": "code",
   "execution_count": 70,
   "metadata": {},
   "outputs": [
    {
     "data": {
      "text/html": [
       "<div>\n",
       "<style scoped>\n",
       "    .dataframe tbody tr th:only-of-type {\n",
       "        vertical-align: middle;\n",
       "    }\n",
       "\n",
       "    .dataframe tbody tr th {\n",
       "        vertical-align: top;\n",
       "    }\n",
       "\n",
       "    .dataframe thead th {\n",
       "        text-align: right;\n",
       "    }\n",
       "</style>\n",
       "<table border=\"1\" class=\"dataframe\">\n",
       "  <thead>\n",
       "    <tr style=\"text-align: right;\">\n",
       "      <th></th>\n",
       "      <th>nombre_hotel</th>\n",
       "      <th>estrellas</th>\n",
       "      <th>precio_noche</th>\n",
       "    </tr>\n",
       "  </thead>\n",
       "  <tbody>\n",
       "    <tr>\n",
       "      <th>0</th>\n",
       "      <td>ibis Styles Madrid Prado</td>\n",
       "      <td>4.7</td>\n",
       "      <td>170</td>\n",
       "    </tr>\n",
       "    <tr>\n",
       "      <th>1</th>\n",
       "      <td>Novotel Madrid Center</td>\n",
       "      <td>4.6</td>\n",
       "      <td>255</td>\n",
       "    </tr>\n",
       "    <tr>\n",
       "      <th>2</th>\n",
       "      <td>ibis budget Madrid Calle 30</td>\n",
       "      <td>4.4</td>\n",
       "      <td>106</td>\n",
       "    </tr>\n",
       "    <tr>\n",
       "      <th>3</th>\n",
       "      <td>ibis Madrid Centro las Ventas</td>\n",
       "      <td>4.5</td>\n",
       "      <td>172</td>\n",
       "    </tr>\n",
       "    <tr>\n",
       "      <th>4</th>\n",
       "      <td>Novotel Madrid City Las Ventas</td>\n",
       "      <td>4.6</td>\n",
       "      <td>173</td>\n",
       "    </tr>\n",
       "    <tr>\n",
       "      <th>5</th>\n",
       "      <td>ibis budget Madrid Vallecas</td>\n",
       "      <td>4.3</td>\n",
       "      <td>95</td>\n",
       "    </tr>\n",
       "    <tr>\n",
       "      <th>6</th>\n",
       "      <td>Pullman Madrid Airport &amp; Feria</td>\n",
       "      <td>4.2</td>\n",
       "      <td>127</td>\n",
       "    </tr>\n",
       "    <tr>\n",
       "      <th>7</th>\n",
       "      <td>Novotel Madrid Campo de las Naciones</td>\n",
       "      <td>4.5</td>\n",
       "      <td>154</td>\n",
       "    </tr>\n",
       "    <tr>\n",
       "      <th>8</th>\n",
       "      <td>ibis Madrid Aeropuerto Barajas</td>\n",
       "      <td>4.4</td>\n",
       "      <td>116</td>\n",
       "    </tr>\n",
       "    <tr>\n",
       "      <th>9</th>\n",
       "      <td>ibis Madrid Alcorcon Tresaguas</td>\n",
       "      <td>4.4</td>\n",
       "      <td>90</td>\n",
       "    </tr>\n",
       "  </tbody>\n",
       "</table>\n",
       "</div>"
      ],
      "text/plain": [
       "                           nombre_hotel estrellas precio_noche\n",
       "0              ibis Styles Madrid Prado       4.7          170\n",
       "1                 Novotel Madrid Center       4.6          255\n",
       "2           ibis budget Madrid Calle 30       4.4          106\n",
       "3         ibis Madrid Centro las Ventas       4.5          172\n",
       "4        Novotel Madrid City Las Ventas       4.6          173\n",
       "5           ibis budget Madrid Vallecas       4.3           95\n",
       "6        Pullman Madrid Airport & Feria       4.2          127\n",
       "7  Novotel Madrid Campo de las Naciones       4.5          154\n",
       "8        ibis Madrid Aeropuerto Barajas       4.4          116\n",
       "9        ibis Madrid Alcorcon Tresaguas       4.4           90"
      ]
     },
     "execution_count": 70,
     "metadata": {},
     "output_type": "execute_result"
    }
   ],
   "source": [
    "df_scrap"
   ]
  },
  {
   "cell_type": "code",
   "execution_count": 71,
   "metadata": {},
   "outputs": [],
   "source": [
    "df_scrap.to_csv('../data/scrap_competencia.csv', index=False)"
   ]
  },
  {
   "cell_type": "code",
   "execution_count": null,
   "metadata": {},
   "outputs": [],
   "source": []
  }
 ],
 "metadata": {
  "kernelspec": {
   "display_name": "venv",
   "language": "python",
   "name": "python3"
  },
  "language_info": {
   "codemirror_mode": {
    "name": "ipython",
    "version": 3
   },
   "file_extension": ".py",
   "mimetype": "text/x-python",
   "name": "python",
   "nbconvert_exporter": "python",
   "pygments_lexer": "ipython3",
   "version": "3.13.0"
  }
 },
 "nbformat": 4,
 "nbformat_minor": 2
}
